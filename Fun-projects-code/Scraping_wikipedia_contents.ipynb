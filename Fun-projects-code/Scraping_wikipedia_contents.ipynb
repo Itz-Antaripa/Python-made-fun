{
  "nbformat": 4,
  "nbformat_minor": 0,
  "metadata": {
    "colab": {
      "name": "Scraping_wikipedia.ipynb",
      "provenance": []
    },
    "kernelspec": {
      "name": "python3",
      "display_name": "Python 3"
    }
  },
  "cells": [
    {
      "cell_type": "code",
      "metadata": {
        "id": "slhpRbZHLv4t",
        "colab_type": "code",
        "colab": {
          "base_uri": "https://localhost:8080/",
          "height": 34
        },
        "outputId": "184b1b8b-74e1-470f-afd1-e4c2f9dc6535"
      },
      "source": [
        "!pip install fake_useragent"
      ],
      "execution_count": 1,
      "outputs": [
        {
          "output_type": "stream",
          "text": [
            "Requirement already satisfied: fake_useragent in /usr/local/lib/python3.6/dist-packages (0.1.11)\n"
          ],
          "name": "stdout"
        }
      ]
    },
    {
      "cell_type": "code",
      "metadata": {
        "id": "UGpbNU_cIJw6",
        "colab_type": "code",
        "colab": {}
      },
      "source": [
        "from fake_useragent import UserAgent\n",
        "\n",
        "ua1 = UserAgent()\n",
        "randomHeader = {'User-Agent':str(ua1.random)}"
      ],
      "execution_count": 2,
      "outputs": []
    },
    {
      "cell_type": "code",
      "metadata": {
        "id": "1Iw4G2MyMRVo",
        "colab_type": "code",
        "colab": {}
      },
      "source": [
        "import requests\n",
        "import bs4"
      ],
      "execution_count": 3,
      "outputs": []
    },
    {
      "cell_type": "code",
      "metadata": {
        "id": "kPc1-74PMhxF",
        "colab_type": "code",
        "colab": {}
      },
      "source": [
        "scrapeLink = 'https://en.wikipedia.org/wiki/Megacity'\n",
        "page = requests.get(scrapeLink, randomHeader)\n"
      ],
      "execution_count": 4,
      "outputs": []
    },
    {
      "cell_type": "code",
      "metadata": {
        "id": "cPjTFAW4MjsT",
        "colab_type": "code",
        "colab": {
          "base_uri": "https://localhost:8080/",
          "height": 34
        },
        "outputId": "f4c03c23-9ed0-4c47-8233-107a32819201"
      },
      "source": [
        "print(page)"
      ],
      "execution_count": 5,
      "outputs": [
        {
          "output_type": "stream",
          "text": [
            "<Response [200]>\n"
          ],
          "name": "stdout"
        }
      ]
    },
    {
      "cell_type": "code",
      "metadata": {
        "id": "2giUedctMpQu",
        "colab_type": "code",
        "colab": {}
      },
      "source": [
        "scrape = bs4.BeautifulSoup(page.text, 'html.parser')      # This gives the HTML format of the page which we will scrape"
      ],
      "execution_count": 6,
      "outputs": []
    },
    {
      "cell_type": "code",
      "metadata": {
        "id": "Qld_xbhvM3_9",
        "colab_type": "code",
        "colab": {}
      },
      "source": [
        "# Comment out the line to check the source code in HTML\n",
        "# print(scrape)"
      ],
      "execution_count": 7,
      "outputs": []
    },
    {
      "cell_type": "code",
      "metadata": {
        "id": "Pe0w-pa7NEUP",
        "colab_type": "code",
        "colab": {}
      },
      "source": [
        "Table = scrape.find_all('table')[1]     # because while inspecting we have found that the table of which the source code we wanted\n",
        "                                        # is table no. 2 "
      ],
      "execution_count": 8,
      "outputs": []
    },
    {
      "cell_type": "code",
      "metadata": {
        "id": "17-6H78_QUpc",
        "colab_type": "code",
        "colab": {}
      },
      "source": [
        "rowValList = []\n",
        "\n",
        "for i in range(len(Table.find_all('td'))):          # Since <td> contains all the information, therefore, we will extract the texts inside <td> </td>\n",
        "    rowValue = Table.find_all('td')[i].get_text()\n",
        "    rowValList.append(rowValue)"
      ],
      "execution_count": 9,
      "outputs": []
    },
    {
      "cell_type": "code",
      "metadata": {
        "id": "v7COMtq9Qqfo",
        "colab_type": "code",
        "colab": {
          "base_uri": "https://localhost:8080/",
          "height": 54
        },
        "outputId": "e52dd8e9-229c-4027-f347-b4fe3b72ae3c"
      },
      "source": [
        "print(rowValList)"
      ],
      "execution_count": 10,
      "outputs": [
        {
          "output_type": "stream",
          "text": [
            "['\\n', '\\xa0India\\n', 'Asia\\n', '12,200,000\\n', '13,707,000\\n', '11,440,000\\n', '\\n', '\\xa0Thailand\\n', 'Asia\\n', '18,800,000\\n', '17,066,000\\n', '10,156,000\\n', '\\n', '\\xa0China\\n', 'Asia\\n', '19,800,000\\n', '19,433,000\\n', '19,618,000\\n', '\\n', '\\xa0Colombia\\n', 'South America\\n', '9,600,000\\n', '9,464,000\\n', '10,574,000\\n', '\\n', '\\xa0Argentina\\n', 'South America\\n', '16,400,000\\n', '16,157,000\\n', '14,967,000\\n', '\\n', '\\xa0Egypt\\n', 'Africa\\n', '21,000,000\\n', '19,372,000\\n', '20,076,000\\n', '\\n', '\\xa0China\\n', 'Asia\\n', '9,600,000\\n', '11,309,000\\n', '8,813,000\\n', '\\n', '\\xa0India\\n', 'Asia\\n', '11,300,000\\n', '11,324,000\\n', '10,456,000\\n', '\\n', '\\xa0China\\n', 'Asia\\n', '8,150,000\\n', '7,739,000\\n', '14,838,000\\n', '\\n', '\\xa0India\\n', 'Asia\\n', '30,300,000\\n', '29,617,000\\n', '28,514,000\\n', '\\n', '\\xa0Bangladesh\\n', 'Asia\\n', '20,200,000\\n', '15,443,000\\n', '19,578,000\\n', '\\n', '\\xa0China\\n', 'Asia\\n', '46,700,000\\n', '20,902,000\\n', '12,638,000\\n', '\\n', '\\xa0Vietnam\\n', 'Asia\\n', '8,600,000\\n', '13,312,000\\n', '8,145,000\\n', '\\n', '\\xa0India\\n', 'Asia\\n', '10,200,000\\n', '9,746,000\\n', '9,482,000\\n', '\\n', '\\xa0Turkey\\n', 'Europe, Asia\\n', '16,000,000\\n', '15,154,000\\n', '14,751,000\\n', '\\n', '\\xa0Indonesia\\n', 'Asia\\n', '31,300,000\\n', '34,540,000\\n', '10,517,000\\n', '\\n', '\\xa0South Africa\\n', 'Africa\\n', '13,900,000\\n', '9,505,000\\n', '5,486,000\\n', '\\n', '\\xa0Pakistan\\n', 'Asia\\n', '17,800,000\\n', '14,835,000\\n', '15,400,000\\n', '\\n', '\\xa0DR Congo\\n', 'Africa\\n', '12,400,000\\n', '13,528,000\\n', '13,171,000\\n', '\\n', '\\xa0India\\n', 'Asia\\n', '16,800,000\\n', '17,560,000\\n', '14,681,000\\n', '\\n', '\\xa0Nigeria\\n', 'Africa\\n', '19,400,000\\n', '15,279,000\\n', '13,463,000\\n', '\\n', '\\xa0Pakistan\\n', 'Asia\\n', '13,000,000\\n', '11,021,000\\n', '11,738,000\\n', '\\n', '\\xa0Peru\\n', 'South America\\n', '10,100,000\\n', '9,848,000\\n', '10,391,000\\n', '\\n', '\\xa0United Kingdom\\n', 'Europe\\n', '14,800,000\\n', '10,979,000\\n', '9,046,000\\n', '\\n', '\\xa0United States\\n', 'North America\\n', '17,700,000\\n', '15,402,000\\n', '12,458,000\\n', '\\n', '\\xa0Philippines\\n', 'Asia\\n', '25,700,000\\n', '23,088,000\\n', '13,482,000\\n', '\\n', '\\xa0Mexico\\n', 'North America\\n', '23,000,000\\n', '20,996,000\\n', '21,581,000\\n', '\\n', '\\xa0Russia\\n', 'Europe\\n', '17,300,000\\n', '17,125,000\\n', '12,410,000\\n', '\\n', '\\xa0India\\n', 'Asia\\n', '25,100,000\\n', '23,355,000\\n', '19,980,000\\n', '\\n', '\\xa0Japan\\n', 'Asia\\n', '10,500,000\\n', '9,113,000\\n', '9,507,000\\n', '\\n', '\\xa0United States\\n', 'North America\\n', '22,100,000\\n', '20,870,000\\n', '18,819,000\\n', '\\n', '\\xa0Japan\\n', 'Asia\\n', '17,700,000\\n', '14,977,000\\n', '19,281,000\\n', '\\n', '\\xa0France\\n', 'Europe\\n', '11,400,000\\n', '11,020,000\\n', '10,901,000\\n', '\\n', '\\xa0Brazil\\n', 'South America\\n', '13,200,000\\n', '12,272,000\\n', '13,293,000\\n', '\\n', '\\xa0Brazil\\n', 'South America\\n', '22,400,000\\n', '22,046,000\\n', '21,650,000\\n', '\\n', '\\xa0South Korea\\n', 'Asia\\n', '24,800,000\\n', '21,794,000\\n', '9,963,000\\n', '\\n', '\\xa0China\\n', 'Asia\\n', '33,600,000\\n', '22,120,000\\n', '25,582,000\\n', '\\n', '\\xa0China\\n', 'Asia\\n', 'Combined withGuangzhou\\n', '15,929,000\\n', '11,908,000\\n', '\\n', '\\xa0Iran\\n', 'Asia\\n', '15,300,000\\n', '13,633,000\\n', '8,896,000\\n', '\\n', '\\xa0China\\n', 'Asia\\n', '12,700,000\\n', '10,800,000\\n', '13,215,000\\n', '\\n', '\\xa0Japan\\n', 'Asia\\n', '40,400,000\\n', '37,977,000\\n', '37,468,000\\n', '\\n', '\\xa0China\\n', 'Asia\\n', '10,000,000\\n', '4,773,000\\n', '3,585,000\\n']\n"
          ],
          "name": "stdout"
        }
      ]
    },
    {
      "cell_type": "code",
      "metadata": {
        "id": "HcxXTrAeU824",
        "colab_type": "code",
        "colab": {}
      },
      "source": [
        "# Cleaning the text and removing \\n and \\xa\n",
        "import re\n",
        "RowList = []\n",
        "for i in rowValList:\n",
        "  i = i.replace('\\n', '')\n",
        "  i = i.replace(u'\\xa0', u'')\n",
        "  RowList.append(i)"
      ],
      "execution_count": 11,
      "outputs": []
    },
    {
      "cell_type": "code",
      "metadata": {
        "id": "51jO8s8mRLdP",
        "colab_type": "code",
        "colab": {}
      },
      "source": [
        "countryList = []\n",
        "for i in range(1, len(RowList), 6):\n",
        "    countryList.append(RowList[i])\n",
        "    \n",
        "continentList = []\n",
        "for i in range(2, len(RowList), 6):\n",
        "    continentList.append(RowList[i])\n",
        "\n",
        "populationList = []\n",
        "for i in range(3, len(RowList), 6):\n",
        "    populationList.append(RowList[i])\n",
        "    "
      ],
      "execution_count": 12,
      "outputs": []
    },
    {
      "cell_type": "code",
      "metadata": {
        "id": "73zioCUFROxm",
        "colab_type": "code",
        "colab": {
          "base_uri": "https://localhost:8080/",
          "height": 54
        },
        "outputId": "2a8c8049-bac2-4169-bbe8-e243deb8cd18"
      },
      "source": [
        "print(countryList)"
      ],
      "execution_count": 13,
      "outputs": [
        {
          "output_type": "stream",
          "text": [
            "['India', 'Thailand', 'China', 'Colombia', 'Argentina', 'Egypt', 'China', 'India', 'China', 'India', 'Bangladesh', 'China', 'Vietnam', 'India', 'Turkey', 'Indonesia', 'South Africa', 'Pakistan', 'DR Congo', 'India', 'Nigeria', 'Pakistan', 'Peru', 'United Kingdom', 'United States', 'Philippines', 'Mexico', 'Russia', 'India', 'Japan', 'United States', 'Japan', 'France', 'Brazil', 'Brazil', 'South Korea', 'China', 'China', 'Iran', 'China', 'Japan', 'China']\n"
          ],
          "name": "stdout"
        }
      ]
    },
    {
      "cell_type": "code",
      "metadata": {
        "id": "aUCd5suKRz2B",
        "colab_type": "code",
        "colab": {
          "base_uri": "https://localhost:8080/",
          "height": 204
        },
        "outputId": "a490e8df-8bf3-4bae-fa6b-cad9b45e941e"
      },
      "source": [
        "import pandas as pd\n",
        "\n",
        "megaDt = pd.DataFrame()\n",
        "megaDt['Country'] = countryList\n",
        "megaDt['Continent'] = continentList\n",
        "megaDt['Population'] = populationList\n",
        "\n",
        "megaDt.head()"
      ],
      "execution_count": 14,
      "outputs": [
        {
          "output_type": "execute_result",
          "data": {
            "text/html": [
              "<div>\n",
              "<style scoped>\n",
              "    .dataframe tbody tr th:only-of-type {\n",
              "        vertical-align: middle;\n",
              "    }\n",
              "\n",
              "    .dataframe tbody tr th {\n",
              "        vertical-align: top;\n",
              "    }\n",
              "\n",
              "    .dataframe thead th {\n",
              "        text-align: right;\n",
              "    }\n",
              "</style>\n",
              "<table border=\"1\" class=\"dataframe\">\n",
              "  <thead>\n",
              "    <tr style=\"text-align: right;\">\n",
              "      <th></th>\n",
              "      <th>Country</th>\n",
              "      <th>Continent</th>\n",
              "      <th>Population</th>\n",
              "    </tr>\n",
              "  </thead>\n",
              "  <tbody>\n",
              "    <tr>\n",
              "      <th>0</th>\n",
              "      <td>India</td>\n",
              "      <td>Asia</td>\n",
              "      <td>12,200,000</td>\n",
              "    </tr>\n",
              "    <tr>\n",
              "      <th>1</th>\n",
              "      <td>Thailand</td>\n",
              "      <td>Asia</td>\n",
              "      <td>18,800,000</td>\n",
              "    </tr>\n",
              "    <tr>\n",
              "      <th>2</th>\n",
              "      <td>China</td>\n",
              "      <td>Asia</td>\n",
              "      <td>19,800,000</td>\n",
              "    </tr>\n",
              "    <tr>\n",
              "      <th>3</th>\n",
              "      <td>Colombia</td>\n",
              "      <td>South America</td>\n",
              "      <td>9,600,000</td>\n",
              "    </tr>\n",
              "    <tr>\n",
              "      <th>4</th>\n",
              "      <td>Argentina</td>\n",
              "      <td>South America</td>\n",
              "      <td>16,400,000</td>\n",
              "    </tr>\n",
              "  </tbody>\n",
              "</table>\n",
              "</div>"
            ],
            "text/plain": [
              "     Country      Continent  Population\n",
              "0      India           Asia  12,200,000\n",
              "1   Thailand           Asia  18,800,000\n",
              "2      China           Asia  19,800,000\n",
              "3   Colombia  South America   9,600,000\n",
              "4  Argentina  South America  16,400,000"
            ]
          },
          "metadata": {
            "tags": []
          },
          "execution_count": 14
        }
      ]
    }
  ]
}