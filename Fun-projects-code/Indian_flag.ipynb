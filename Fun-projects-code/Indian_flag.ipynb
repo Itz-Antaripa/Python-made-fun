{
  "nbformat": 4,
  "nbformat_minor": 0,
  "metadata": {
    "colab": {
      "name": "Indian_flag.ipynb",
      "provenance": []
    },
    "kernelspec": {
      "name": "python3",
      "display_name": "Python 3"
    }
  },
  "cells": [
    {
      "cell_type": "code",
      "metadata": {
        "id": "Y5-ZCxnzkeQr",
        "colab_type": "code",
        "colab": {}
      },
      "source": [
        "import numpy as np\n",
        "import matplotlib.pyplot as pl\n",
        "import matplotlib.patches as patches"
      ],
      "execution_count": 1,
      "outputs": []
    },
    {
      "cell_type": "code",
      "metadata": {
        "id": "WXekWGLvqNjq",
        "colab_type": "code",
        "colab": {
          "base_uri": "https://localhost:8080/",
          "height": 281
        },
        "outputId": "80266799-fc62-42ba-81cd-5621b7ab337d"
      },
      "source": [
        "# Making the tricolors\n",
        "green = patches.Rectangle((0,1), width=12, height=2, facecolor='green', edgecolor='#43464b')\n",
        "white = patches.Rectangle((0,3), width=12, height=2, facecolor='white', edgecolor='#43464b')\n",
        "saffron = patches.Rectangle((0,5), width=12, height=2, facecolor='#f2b639', edgecolor='#43464b')\n",
        "\n",
        "a, b = pl.subplots()\n",
        "b.add_patch(green)\n",
        "b.add_patch(white)\n",
        "b.add_patch(saffron)\n",
        "\n",
        "# Making the Ashoka Chakra\n",
        "radius = 0.8\n",
        "pl.plot(6, 4, marker='o', markerfacecolor='#000080', markersize=9.5)\n",
        "chakra = pl.Circle((6,4), radius, color='#000080', fill=False, linewidth=7)\n",
        "b.add_artist(chakra)\n",
        "for i in range(0, 24):\n",
        "  c = 6 + radius/2 * np.cos(np.pi* i/12 + np.pi/48)\n",
        "  d = 6 + radius/2 * np.cos(np.pi* i/12 - np.pi/48)\n",
        "  e = 4+ radius/2 * np.sin(np.pi* i/12 + np.pi/48)\n",
        "  f = 4+ radius/2 * np.sin(np.pi* i/12 - np.pi/48)\n",
        "  g = 6 + radius * np.cos(np.pi* i/12)\n",
        "  h = 4 + radius * np.sin(np.pi* i/12)\n",
        "  b.add_patch(patches.Polygon([[6,4], [c,e], [g,h], [d,f]], fill=True, closed=True, color='#000088ff'))\n",
        "pl.title('Happy Indepence Day (Jai Hind)')\n",
        "pl.axis('equal')\n",
        "pl.show()"
      ],
      "execution_count": 2,
      "outputs": [
        {
          "output_type": "display_data",
          "data": {
            "image/png": "[encoded data removed]",
            "text/plain": [
              "<Figure size 432x288 with 1 Axes>"
            ]
          },
          "metadata": {
            "tags": [],
            "needs_background": "light"
          }
        }
      ]
    }
  ]
}